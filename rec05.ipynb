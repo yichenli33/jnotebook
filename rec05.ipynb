{
 "cells": [
  {
   "cell_type": "markdown",
   "metadata": {},
   "source": [
    "# CS 1656 – Introduction to Data Science  \n",
    "## Instructor: Alexandros Labrinidis \n",
    "## Teaching Assistant: Xiaoting Li\n",
    "## Additional Credits: Tahereh Arabghalizi, Evangelos Karageorgos, Agha Zuha, Anatoli Shein\n",
    "## SQLite in Python\n",
    "\n",
    "In this recitation we will learn how to create SQLite Databases, create tables, populate tables, and execute SQL queries.\n",
    "\n",
    "Start off by importing sqlite3, which comes installed with Anaconda's package list."
   ]
  },
  {
   "cell_type": "code",
   "execution_count": null,
   "metadata": {},
   "outputs": [],
   "source": [
    "import  sqlite3 as lite"
   ]
  },
  {
   "cell_type": "markdown",
   "metadata": {},
   "source": [
    "### Introduction to SQLite \n",
    "SQLite is an in-process library that implements a self-contained, serverless, zero-configuration, transactional SQL database engine. Unlike most other SQL databases, SQLite does not have a separate server process. SQLite reads and writes directly to ordinary disk files."
   ]
  },
  {
   "cell_type": "markdown",
   "metadata": {},
   "source": [
    "### Creating and Connecting to SQLite Database\n",
    "To connect to a database, use the connect() method which returns a connection object. If a database with that name does not exist, connect() method creates a database."
   ]
  },
  {
   "cell_type": "code",
   "execution_count": null,
   "metadata": {},
   "outputs": [],
   "source": [
    "con = lite.connect('cs1656wed.sqlite')"
   ]
  },
  {
   "cell_type": "markdown",
   "metadata": {},
   "source": [
    "### Create/Drop Tables & Insert Data\n",
    "From the connection, we get the cursor object. The cursor is used to traverse the records from the result set. \n",
    "By using the with keyword, the Python interpreter automatically releases the resources by closing the connection, provides error handling and __commits__ the changes. Otherwise, each update to the database has to be committed manually. You can think of commit as saving the changes.\n",
    "\n",
    "We call the execute() method of the cursor to execute the SQL statements.Let's start by creating a Rankings table in the database. "
   ]
  },
  {
   "cell_type": "code",
   "execution_count": null,
   "metadata": {},
   "outputs": [],
   "source": [
    "with con:\n",
    "    cur = con.cursor() \n",
    "    cur.execute('DROP TABLE IF EXISTS Courses')\n",
    "    cur.execute(\"CREATE TABLE Courses(cid INT, number INT, professor TEXT, major TEXT, year INT, semester TEXT)\")\n",
    "\n",
    "    cur.execute('DROP TABLE IF EXISTS Majors')\n",
    "    cur.execute(\"CREATE TABLE Majors(sid INT, major TEXT)\")\n",
    "\n",
    "    cur.execute('DROP TABLE IF EXISTS Grades')\n",
    "    cur.execute(\"CREATE TABLE Grades(sid INT, cid INT, credits INT, grade INT)\")\n",
    "\n",
    "    cur.execute('DROP TABLE IF EXISTS Students')\n",
    "    cur.execute(\"CREATE TABLE Students(sid INT, firstName TEXT, lastName TEXT, yearStarted INT)\")\n",
    "   "
   ]
  },
  {
   "cell_type": "markdown",
   "metadata": {},
   "source": [
    "Now data can be inserted in the table using two ways. You could either insert each row one by one as shown below, "
   ]
  },
  {
   "cell_type": "code",
   "execution_count": null,
   "metadata": {},
   "outputs": [],
   "source": [
    "import pandas\n",
    "from sqlalchemy import create_engine\n",
    "\n",
    "engine = create_engine(\"sqlite:///cs1656wed.sqlite\")\n",
    "df1 = pandas.read_csv('students.csv')\n",
    "df1.to_sql('students', engine, if_exists='append', index=False)\n",
    "\n",
    "df2 = pandas.read_csv('grades.csv')\n",
    "df2.to_sql('grades', engine, if_exists='append', index=False)\n",
    "\n",
    "df3 = pandas.read_csv('courses.csv')\n",
    "df3.to_sql('courses', engine, if_exists='append', index=False)\n",
    "\n",
    "df4 = pandas.read_csv('majors.csv')\n",
    "df4.to_sql('majors', engine, if_exists='append', index=False)\n"
   ]
  },
  {
   "cell_type": "markdown",
   "metadata": {},
   "source": [
    "Or a easier way to insert all rows together is by using executemany() method. But before we try the second method of inserting data, let's first drop the exising table and create it again."
   ]
  },
  {
   "cell_type": "markdown",
   "metadata": {},
   "source": [
    "### Select, Where, Orderby\n",
    "To select all data from the table, "
   ]
  },
  {
   "cell_type": "code",
   "execution_count": null,
   "metadata": {},
   "outputs": [],
   "source": [
    "cur.execute(\"SELECT * FROM students\")"
   ]
  },
  {
   "cell_type": "markdown",
   "metadata": {},
   "source": [
    "To retrieve data after executing a SELECT statement, you can either treat the cursor as an iterator and call the cursor’s fetchone() method to retrieve a single matching row, or call fetchall() to get a list of the matching rows."
   ]
  },
  {
   "cell_type": "code",
   "execution_count": null,
   "metadata": {},
   "outputs": [],
   "source": [
    "for row in cur.execute(\"select * from students\"):\n",
    "    print(row)\n",
    "\n",
    "# OR     \n",
    "cur.execute(\"select * from students\")\n",
    "df5 = pandas.DataFrame(cur.fetchall(), columns=[column[0] for column in cur.description])\n",
    "df5"
   ]
  },
  {
   "cell_type": "markdown",
   "metadata": {},
   "source": [
    "Now, let's find out how many courses were passed per semester (plus year)"
   ]
  },
  {
   "cell_type": "code",
   "execution_count": null,
   "metadata": {},
   "outputs": [],
   "source": [
    "q3a = \"\"\"\n",
    "SELECT year, semester, count(*) \n",
    "FROM courses natural join grades \n",
    "WHERE grade > 0\n",
    "GROUP BY year, semester\n",
    "\"\"\"\n",
    "cur.execute(q3a)\n",
    "cur.fetchall()"
   ]
  },
  {
   "cell_type": "markdown",
   "metadata": {},
   "source": [
    "Let's create a view called 'allgrades' that compiles student grades, and show the view using a dataframe."
   ]
  },
  {
   "cell_type": "code",
   "execution_count": null,
   "metadata": {},
   "outputs": [],
   "source": [
    "cur.execute(\"DROP VIEW IF EXISTS allgrades\")\n",
    "q4c = \"\"\"\n",
    "create view allgrades as\n",
    "SELECT s.firstName, s.lastName, m.major as ms, \n",
    "       c.number, c.major as mc, g.grade \n",
    "FROM students as s, majors as m, grades as g, courses as c\n",
    "WHERE s.sid = m.sid AND g.sid = s.sid AND g.cid = c.cid\n",
    "\"\"\"\n",
    "cur.execute(q4c)\n",
    "pandas.DataFrame(cur.execute(\"select * from allgrades\").fetchall(), columns=[column[0] for column in cur.description])"
   ]
  },
  {
   "cell_type": "markdown",
   "metadata": {},
   "source": [
    "### Tasks\n",
    "\n",
    "__T1) Show how many courses were passed (grade>0) per student per semester (plus year). Show student id, year, semester and the count.__"
   ]
  },
  {
   "cell_type": "markdown",
   "metadata": {},
   "source": [
    "__T2) Same as T1, but show student first and last name instead of student id. Also only show results for students passing at least two courses for every semester.__"
   ]
  },
  {
   "cell_type": "markdown",
   "metadata": {},
   "source": [
    "__T3) Show the students that have failed at a course in their majors (firstName, lastName, major, courseNumber), utilizing the 'allgrades' view.__"
   ]
  },
  {
   "cell_type": "markdown",
   "metadata": {},
   "source": [
    "__T4) Same as T3, but without utilizing the view.__"
   ]
  },
  {
   "cell_type": "markdown",
   "metadata": {},
   "source": [
    "__T5) Show the professors in decreasing order of 'success' (professor, success). Success will be defined as the number of students passing any of the courses with grade >= 2.__"
   ]
  },
  {
   "cell_type": "markdown",
   "metadata": {},
   "source": [
    "__T6) Show a report of the courses (course_number, student_names, avg_grade). Column 'student_names' will contain the first and last names (seperated by a space) of all students taking the course, each name being seperated by ', ' (eg. 'John Doe, Mary Jane'). Only students that passed a specific course (grade>=2) will be considered. Also, the report should only contain courses with avg_grade > 3.__"
   ]
  },
  {
   "cell_type": "code",
   "execution_count": null,
   "metadata": {},
   "outputs": [],
   "source": [
    "cur.close()\n",
    "con.close()"
   ]
  },
  {
   "cell_type": "code",
   "execution_count": null,
   "metadata": {},
   "outputs": [],
   "source": []
  }
 ],
 "metadata": {
  "anaconda-cloud": {},
  "kernelspec": {
   "display_name": "Python 3",
   "language": "python",
   "name": "python3"
  },
  "language_info": {
   "codemirror_mode": {
    "name": "ipython",
    "version": 3
   },
   "file_extension": ".py",
   "mimetype": "text/x-python",
   "name": "python",
   "nbconvert_exporter": "python",
   "pygments_lexer": "ipython3",
   "version": "3.6.4"
  }
 },
 "nbformat": 4,
 "nbformat_minor": 1
}
